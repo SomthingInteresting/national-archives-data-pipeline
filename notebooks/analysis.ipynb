{
 "cells": [
  {
   "cell_type": "markdown",
   "metadata": {},
   "source": [
    "# National Archives Data Pipeline Demo\n",
    "\n",
    "This notebook demonstrates the full pipeline for processing legislation data from legislation.gov.uk."
   ]
  },
  {
   "cell_type": "code",
   "execution_count": null,
   "metadata": {},
   "outputs": [],
   "source": [
    "import sys\n",
    "sys.path.append('..')\n",
    "\n",
    "from src.api_client import LegislationAPIClient\n",
    "from src.atom_parser import parse_atom_feed\n",
    "from src.xml_validator import XMLValidator\n",
    "from src.metadata_extractor import LegislationMetadataExtractor\n",
    "from src.reporting import generate_pdf_report\n",
    "\n",
    "import pandas as pd\n",
    "import matplotlib.pyplot as plt\n",
    "import seaborn as sns\n",
    "\n",
    "# Set plot style\n",
    "plt.style.use('seaborn')\n",
    "sns.set_palette('husl')\n"
   ]
  },
  {
   "cell_type": "code",
   "execution_count": null,
   "metadata": {},
   "outputs": [],
   "source": [
    "## 1. Fetch Atom Feed\n"
   ]
  },
  {
   "cell_type": "code",
   "execution_count": null,
   "metadata": {},
   "outputs": [],
   "source": [
    "# Initialize API client\n",
    "client = LegislationAPIClient()\n",
    "\n",
    "# Fetch Atom feed for recent legislation\n",
    "atom_feed = client.get_atom_feed(query='coronavirus')\n",
    "\n",
    "# Parse feed into DataFrame\n",
    "feed_df = parse_atom_feed(atom_feed)\n",
    "feed_df.head()\n"
   ]
  },
  {
   "cell_type": "code",
   "execution_count": null,
   "metadata": {},
   "outputs": [],
   "source": [
    "## 2. Download and Validate Sample XML\n"
   ]
  },
  {
   "cell_type": "code",
   "execution_count": null,
   "metadata": {},
   "outputs": [],
   "source": [
    "# Get sample legislation\n",
    "sample_id = 'ukpga/2020/1'  # Coronavirus Act 2020\n",
    "xml_content = client.get_legislation_xml(sample_id)\n",
    "\n",
    "# Validate XML\n",
    "validator = XMLValidator()\n",
    "schema_name = validator.get_schema_for_legislation(sample_id)\n",
    "errors = validator.validate_xml(xml_content, schema_name)\n",
    "\n",
    "if errors:\n",
    "    print('Validation errors found:')\n",
    "    for error in errors:\n",
    "        print(f'- {error}')\n",
    "else:\n",
    "    print('XML is valid!')\n"
   ]
  },
  {
   "cell_type": "code",
   "execution_count": null,
   "metadata": {},
   "outputs": [],
   "source": [
    "## 3. Extract Metadata\n"
   ]
  },
  {
   "cell_type": "code",
   "execution_count": null,
   "metadata": {},
   "outputs": [],
   "source": [
    "# Extract metadata\n",
    "extractor = LegislationMetadataExtractor()\n",
    "metadata = extractor.extract_metadata(xml_content)\n",
    "\n",
    "# Convert to DataFrames\n",
    "dfs = extractor.to_dataframe(metadata)\n",
    "\n",
    "# Display main metadata\n",
    "dfs['main']\n"
   ]
  },
  {
   "cell_type": "code",
   "execution_count": null,
   "metadata": {},
   "outputs": [],
   "source": [
    "## 4. Analyze Sections\n"
   ]
  },
  {
   "cell_type": "code",
   "execution_count": null,
   "metadata": {},
   "outputs": [],
   "source": [
    "# Analyze section lengths\n",
    "sections_df = dfs['sections']\n",
    "sections_df['content_length'] = sections_df['content'].str.len()\n",
    "\n",
    "plt.figure(figsize=(12, 6))\n",
    "sns.histplot(data=sections_df, x='content_length', bins=30)\n",
    "plt.title('Distribution of Section Lengths')\n",
    "plt.xlabel('Content Length (characters)')\n",
    "plt.ylabel('Count')\n",
    "plt.show()\n"
   ]
  },
  {
   "cell_type": "code",
   "execution_count": null,
   "metadata": {},
   "outputs": [],
   "source": [
    "## 5. Generate Report\n"
   ]
  },
  {
   "cell_type": "code",
   "execution_count": null,
   "metadata": {},
   "outputs": [],
   "source": [
    "# Generate PDF report\n",
    "output_path = '../data/processed/legislation_report.pdf'\n",
    "generate_pdf_report(metadata, output_path)\n",
    "print(f'Report generated: {output_path}')\n"
   ]
  },
  {
   "cell_type": "code",
   "execution_count": null,
   "metadata": {},
   "outputs": [],
   "source": [
    "## 6. Additional Analysis\n"
   ]
  },
  {
   "cell_type": "code",
   "execution_count": null,
   "metadata": {},
   "outputs": [],
   "source": [
    "# Analyze amendments over time\n",
    "if not dfs['amendments'].empty:\n",
    "    amendments_df = dfs['amendments']\n",
    "    amendments_df['date'] = pd.to_datetime(amendments_df['date'])\n",
    "    \n",
    "    plt.figure(figsize=(12, 6))\n",
    "    amendments_df.groupby('date').size().plot(kind='bar')\n",
    "    plt.title('Amendments Over Time')\n",
    "    plt.xlabel('Date')\n",
    "    plt.ylabel('Number of Amendments')\n",
    "    plt.xticks(rotation=45)\n",
    "    plt.tight_layout()\n",
    "    plt.show()\n",
    "else:\n",
    "    print('No amendments found for this legislation.')\n"
   ]
  }
 ],
 "metadata": {
  "kernelspec": {
   "display_name": "Python 3 (ipykernel)",
   "language": "python",
   "name": "python3"
  },
  "language_info": {
   "codemirror_mode": {
    "name": "ipython",
    "version": 3
   },
   "file_extension": ".py",
   "mimetype": "text/x-python",
   "name": "python",
   "nbconvert_exporter": "python",
   "pygments_lexer": "ipython3",
   "version": "3.13.1"
  }
 },
 "nbformat": 4,
 "nbformat_minor": 4
}
